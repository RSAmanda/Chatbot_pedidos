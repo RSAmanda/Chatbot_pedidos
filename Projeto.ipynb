{
  "nbformat": 4,
  "nbformat_minor": 0,
  "metadata": {
    "colab": {
      "provenance": [],
      "authorship_tag": "ABX9TyPZ7sOah2OXluHypqGAnSBK",
      "include_colab_link": true
    },
    "kernelspec": {
      "name": "python3",
      "display_name": "Python 3"
    },
    "language_info": {
      "name": "python"
    }
  },
  "cells": [
    {
      "cell_type": "markdown",
      "metadata": {
        "id": "view-in-github",
        "colab_type": "text"
      },
      "source": [
        "<a href=\"https://colab.research.google.com/github/RSAmanda/Chatbot_pedidos/blob/main/Projeto.ipynb\" target=\"_parent\"><img src=\"https://colab.research.google.com/assets/colab-badge.svg\" alt=\"Open In Colab\"/></a>"
      ]
    },
    {
      "cell_type": "markdown",
      "source": [
        "# Projeto Chatbot de Pedidos de uma Pizzaria\n"
      ],
      "metadata": {
        "id": "shCiaA5Du22y"
      }
    },
    {
      "cell_type": "code",
      "source": [
        "def main():\n",
        "  pizzas_disponiveis = ['pepperoni', 'queijo', 'calabresa']\n",
        "  preco_calabresa = 70.0\n",
        "  preco_queijo = 50.0\n",
        "  preco_pepperoni = 80.0\n",
        "  lista_precos = [preco_pepperoni, preco_queijo, preco_calabresa ]\n",
        "  qtd_pedido = [0.0,0.0,0.0]\n",
        "\n",
        "  print('- - - - - - - PIZZARIA DA TURMA 2 - - - - - - - -\\n')\n",
        "  print('Quais são as pizzas disponíveis?\\n')\n",
        "  cardapio()\n",
        "\n",
        "  fazer_pedido(pizzas_disponiveis, lista_precos, qtd_pedido)\n",
        "\n",
        "  print('\\nAtendimento encerrado...')"
      ],
      "metadata": {
        "id": "364BqnBDYi-3"
      },
      "execution_count": 10,
      "outputs": []
    },
    {
      "cell_type": "code",
      "source": [
        "def cardapio():\n",
        "  \"\"\"\n",
        "  A função não recebe e não retorna nenhum parâmetro, apenas imprime na tela o cardápio\n",
        "  \"\"\"\n",
        "  print(\"\"\"\n",
        "      SABOR       PREÇO\n",
        "      Pepperoni   R$ 70,00\n",
        "      queijo      R$ 50,00\n",
        "      calabresa   R$ 80,00\n",
        "      \"\"\")"
      ],
      "metadata": {
        "id": "kxXpW1cHBccs"
      },
      "execution_count": 2,
      "outputs": []
    },
    {
      "cell_type": "code",
      "source": [
        "def verificacao_de_disponibilidade(lista_disponiveis, solicitado):\n",
        "  \"\"\"\n",
        "  A função faz a verificação da disponibilidade da pizza solicitada,\n",
        "    caso o usuário digite algum nome diferentes dos valores disponíveis\n",
        "    a função repete a soliticação do nome até que seja retornado um sabor disponível\n",
        "  Recebe:\n",
        "  lista_disponiveis:list() Um lista com os valores válidos de pizza\n",
        "  solicitado:(str) nome da pizza digitada pelo usuário\n",
        "\n",
        "  Retorna:\n",
        "  solicitado:(str) um nome de uma pizza disponível\n",
        "\n",
        "  \"\"\"\n",
        "  while not solicitado in lista_disponiveis:\n",
        "    print(f\"Não há a disponibilidade da pizza de {solicitado}\")\n",
        "    print(\"Temos as seguintes pizzas:\")\n",
        "    cardapio()\n",
        "    solicitado = input(\"Qual pizza você quer?\\t\")\n",
        "  return solicitado"
      ],
      "metadata": {
        "id": "bTBzUmPfAf0z"
      },
      "execution_count": 3,
      "outputs": []
    },
    {
      "cell_type": "code",
      "source": [
        "def verificacao_resp_S_N(pergunta):\n",
        "  \"\"\"\n",
        "  Verifica respostas de sim e não do usuário,\n",
        "   verificando se o usuário informou um valor válido, ou seja [S] ou [N]\n",
        "   caso o usuário responda algo diferente disso, ele repetirá a pergunta\n",
        "\n",
        "   Recebe\n",
        "   pergunta:(str) pergunta a ser repetida ao usuário sempre que ocorrer resposta inválida\n",
        "\n",
        "   Retorna:\n",
        "   resposta:(str) valor válido de resposta\n",
        "  \"\"\"\n",
        "  respostas_validas = ['S', 'N']\n",
        "  resposta = input(pergunta).upper()\n",
        "  while not resposta in respostas_validas:\n",
        "    print(\"Resposta inválida!\")\n",
        "    resposta = input(pergunta).upper()\n",
        "  return resposta\n",
        "\n",
        "def verificacao_resp(pergunta, respostas_validas):\n",
        "  resposta = input(pergunta).lower()\n",
        "  while not resposta in respostas_validas:\n",
        "    print(\"Resposta inválida!\")\n",
        "    resposta = input(pergunta).lower()\n",
        "  return resposta"
      ],
      "metadata": {
        "id": "GMnyetzDB9c0"
      },
      "execution_count": 4,
      "outputs": []
    },
    {
      "cell_type": "code",
      "source": [
        "def verificacao_qtd(qtd):\n",
        "  \"\"\"\n",
        "  Verificação se a variável qtd é um numérico, caso não seja será pedido para informar um valor válido\n",
        "    até que se retorne um valor válido. O valor será convertido para inteiro e retornado\n",
        "  \"\"\"\n",
        "  while not qtd.isnumeric():\n",
        "    qtd = input(\"Informe um valor válido:\\t\")\n",
        "  return int(qtd)\n"
      ],
      "metadata": {
        "id": "zLk9gC-ZMWMu"
      },
      "execution_count": 5,
      "outputs": []
    },
    {
      "cell_type": "code",
      "source": [
        "def adicionando_pedido(pizzas_disponiveis, sabor_escolhido, lista_precos, qtd_pedido):\n",
        "  \"\"\"\n",
        "  A função verifica qual pizza foi escolhida\n",
        "  Verifica a quantidade a quantidade desejada\n",
        "  Inclui a quantidade na lista qtd_pedido no índice que representa o sabor da pizza\n",
        "\n",
        "  Recebe:\n",
        "  pizzas_disponiveis:(list) Lista de sabores disponíveis\n",
        "  sabor_escolhido:(str) sabor escolhido pelo usuário\n",
        "  lista_precos:(list) lista com os preços dos sabores disponíveis\n",
        "  qtd_pedido:(list) lista com a quantidade de cada sabor\n",
        "\n",
        "  \"\"\"\n",
        "  for i in range(len(pizzas_disponiveis)):\n",
        "    if sabor_escolhido == pizzas_disponiveis[i]:\n",
        "      qtd = input(\"Deseja quantas unidades: \")\n",
        "      qtd = verificacao_qtd(qtd)\n",
        "      if qtd == 0:\n",
        "        print(f\"Não foi adicionada a pizza de {pizzas_disponiveis[i]} do seu pedido.\")\n",
        "      if qtd >= 1:\n",
        "        qtd_pedido[i] = qtd\n",
        "        print(f'Você escolheu a pizza de {pizzas_disponiveis[i]}', end = ' ')\n",
        "        if qtd == 1:\n",
        "          print(f'por R$ {lista_precos[i]:.2f}.')\n",
        "        else:\n",
        "          print(f'\\nO preço unitário é de R$ {lista_precos[i]:.2f}', end='')\n",
        "          print(f' e {qtd} pizzas ficam por R$ {(lista_precos[i]*qtd):.2f}')\n",
        "  return qtd_pedido"
      ],
      "metadata": {
        "id": "-ZogBJjKHtf6"
      },
      "execution_count": 6,
      "outputs": []
    },
    {
      "cell_type": "code",
      "source": [
        "def fazer_pedido(pizzas_disponiveis, lista_precos, qtd_pedido):\n",
        "  \"\"\"\n",
        "  função para contabilizar os pedidos:\n",
        "  Recebe:\n",
        "  pizzas_disponiveis:(list) lista dos sabores disponíveis de pizza\n",
        "  lista_precos:(list) lista dos preços das pizzas,\n",
        "    seguindo a mesma ordem da lista 'pizzas_disponíveis\n",
        "  qtd_pedido:(list) lista com a quantidade escolhida de cada pizza,\n",
        "    seguindo a mesma ordem da lista 'pizzas_disponíveis\n",
        "\n",
        "  \"\"\"\n",
        "  qtd_pedido = [0,0,0]\n",
        "  pergunta = \"Gostaria de alguma pizza: [S] Sim [N] Não: \\t\\t\"\n",
        "  resp = verificacao_resp_S_N(pergunta)\n",
        "\n",
        "  while resp == 'S':\n",
        "    pergunta = 'Qual pizza você gostaria?\\t'\n",
        "    respostas_validas = pizzas_disponiveis\n",
        "    sabor_escolhido = verificacao_resp(pergunta, respostas_validas)\n",
        "\n",
        "    qtd_pedido = adicionando_pedido(pizzas_disponiveis, sabor_escolhido, lista_precos, qtd_pedido)\n",
        "\n",
        "    pergunta = \"Gostaria de alguma mais alguma pizza: [S] Sim [N] Não: \\t\\t\"\n",
        "    resp = verificacao_resp_S_N(pergunta)\n",
        "\n",
        "  finalizando_pedido(qtd_pedido, pizzas_disponiveis, lista_precos)"
      ],
      "metadata": {
        "id": "r7PzhRowKUbt"
      },
      "execution_count": 7,
      "outputs": []
    },
    {
      "cell_type": "code",
      "source": [
        "def finalizando_pedido(qtd_pedido, pizzas_disponiveis, lista_precos):\n",
        "  \"\"\"\n",
        "  Finalização do pedido\n",
        "  caso o usuário tenha pedido alguma pizza:\n",
        "    Sumarização das pizzas pedidas\n",
        "    Calculando o total\n",
        "  caso contrário\n",
        "    Informar que não foi realizado o pedido\n",
        "  \"\"\"\n",
        "  total = 0\n",
        "  if sum(qtd_pedido) > 0:\n",
        "    print(' - - - - - - - - - - - - - - - - - - - - ')\n",
        "    print('Foram pedidas os seguintes pizzas:')\n",
        "    for i in range(len(pizzas_disponiveis)):\n",
        "      if qtd_pedido[i] > 0:\n",
        "        total +=  qtd_pedido[i]*lista_precos[i]\n",
        "        print(f'{qtd_pedido[i]}x {pizzas_disponiveis[i]} -> R$ {(qtd_pedido[i]*lista_precos[i]):.2f}')\n",
        "    print(' - - - - - - - - - - - - - - - - - - - - ')\n",
        "    print(f'TOTAL DO PEDIDO: R$ {total:.2f}')\n",
        "  else:\n",
        "    print('\\nNenhum pedido realizado')"
      ],
      "metadata": {
        "id": "aFJNnVmfHXhP"
      },
      "execution_count": 8,
      "outputs": []
    },
    {
      "cell_type": "code",
      "source": [
        "main()"
      ],
      "metadata": {
        "colab": {
          "base_uri": "https://localhost:8080/"
        },
        "id": "298pnLlBPffZ",
        "outputId": "b24f2585-c4be-4fda-8330-64a673f05eec"
      },
      "execution_count": 11,
      "outputs": [
        {
          "output_type": "stream",
          "name": "stdout",
          "text": [
            "- - - - - - - PIZZARIA DA TURMA 2 - - - - - - - -\n",
            "\n",
            "Quais são as pizzas disponíveis?\n",
            "\n",
            "\n",
            "      SABOR       PREÇO\n",
            "      Pepperoni   R$ 70,00\n",
            "      queijo      R$ 50,00\n",
            "      calabresa   R$ 80,00\n",
            "      \n",
            "Gostaria de alguma pizza: [S] Sim [N] Não: \t\ts\n",
            "Qual pizza você gostaria?\tatum\n",
            "Resposta inválida!\n",
            "Qual pizza você gostaria?\tqueijo\n",
            "Deseja quantas unidades: 2\n",
            "Você escolheu a pizza de queijo \n",
            "O preço unitário é de R$ 50.00 e 2 pizzas ficam por R$ 100.00\n",
            "Gostaria de alguma mais alguma pizza: [S] Sim [N] Não: \t\ts\n",
            "Qual pizza você gostaria?\tpepperoni\n",
            "Deseja quantas unidades: 1\n",
            "Você escolheu a pizza de pepperoni por R$ 80.00.\n",
            "Gostaria de alguma mais alguma pizza: [S] Sim [N] Não: \t\tn\n",
            " - - - - - - - - - - - - - - - - - - - - \n",
            "Foram pedidas os seguintes pizzas:\n",
            "1x pepperoni -> R$ 80.00\n",
            "2x queijo -> R$ 100.00\n",
            " - - - - - - - - - - - - - - - - - - - - \n",
            "TOTAL DO PEDIDO: R$ 180.00\n",
            "\n",
            "Atendimento encerrado...\n"
          ]
        }
      ]
    },
    {
      "cell_type": "code",
      "source": [],
      "metadata": {
        "id": "H7wuYPZjPgR5"
      },
      "execution_count": null,
      "outputs": []
    }
  ]
}